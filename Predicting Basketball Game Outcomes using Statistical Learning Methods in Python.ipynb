{
 "cells": [
  {
   "cell_type": "markdown",
   "metadata": {},
   "source": [
    "# Setup"
   ]
  },
  {
   "cell_type": "code",
   "execution_count": 1,
   "metadata": {},
   "outputs": [],
   "source": [
    "import pandas as pd\n",
    "import numpy as np\n",
    "import seaborn as sns\n",
    "import matplotlib.pyplot as plt\n",
    "%matplotlib inline"
   ]
  },
  {
   "cell_type": "markdown",
   "metadata": {},
   "source": [
    "# Exploratory Data Analysis"
   ]
  },
  {
   "cell_type": "code",
   "execution_count": 2,
   "metadata": {},
   "outputs": [
    {
     "data": {
      "text/html": [
       "<div>\n",
       "<style scoped>\n",
       "    .dataframe tbody tr th:only-of-type {\n",
       "        vertical-align: middle;\n",
       "    }\n",
       "\n",
       "    .dataframe tbody tr th {\n",
       "        vertical-align: top;\n",
       "    }\n",
       "\n",
       "    .dataframe thead th {\n",
       "        text-align: right;\n",
       "    }\n",
       "</style>\n",
       "<table border=\"1\" class=\"dataframe\">\n",
       "  <thead>\n",
       "    <tr style=\"text-align: right;\">\n",
       "      <th></th>\n",
       "      <th>id</th>\n",
       "      <th>gameID</th>\n",
       "      <th>HTWins</th>\n",
       "      <th>VT</th>\n",
       "      <th>HT</th>\n",
       "      <th>VTleague</th>\n",
       "      <th>HTleague</th>\n",
       "      <th>date</th>\n",
       "      <th>VTcumRest</th>\n",
       "      <th>HTcumRest</th>\n",
       "      <th>...</th>\n",
       "      <th>HT.OS4.to</th>\n",
       "      <th>HT.OS4.fgm</th>\n",
       "      <th>HT.OS4.oreb</th>\n",
       "      <th>HT.OS5.plmin</th>\n",
       "      <th>HT.OS5.dreb</th>\n",
       "      <th>HT.OS5.to</th>\n",
       "      <th>HT.OS5.fgm</th>\n",
       "      <th>HT.OS5.oreb</th>\n",
       "      <th>HT.pmxU</th>\n",
       "      <th>HT.pmxW</th>\n",
       "    </tr>\n",
       "  </thead>\n",
       "  <tbody>\n",
       "    <tr>\n",
       "      <th>0</th>\n",
       "      <td>5041</td>\n",
       "      <td>120051</td>\n",
       "      <td>No</td>\n",
       "      <td>BATA</td>\n",
       "      <td>CALO</td>\n",
       "      <td>N</td>\n",
       "      <td>N</td>\n",
       "      <td>20000615</td>\n",
       "      <td>1</td>\n",
       "      <td>2</td>\n",
       "      <td>...</td>\n",
       "      <td>1.85756</td>\n",
       "      <td>4.66096</td>\n",
       "      <td>0.83711</td>\n",
       "      <td>-1.44583</td>\n",
       "      <td>3.87948</td>\n",
       "      <td>1.91473</td>\n",
       "      <td>2.61613</td>\n",
       "      <td>3.91852</td>\n",
       "      <td>4.57092</td>\n",
       "      <td>4.53993</td>\n",
       "    </tr>\n",
       "    <tr>\n",
       "      <th>1</th>\n",
       "      <td>10666</td>\n",
       "      <td>120052</td>\n",
       "      <td>Yes</td>\n",
       "      <td>MANL</td>\n",
       "      <td>NAVO</td>\n",
       "      <td>N</td>\n",
       "      <td>N</td>\n",
       "      <td>20000615</td>\n",
       "      <td>2</td>\n",
       "      <td>2</td>\n",
       "      <td>...</td>\n",
       "      <td>0.70504</td>\n",
       "      <td>1.39478</td>\n",
       "      <td>0.50301</td>\n",
       "      <td>-2.27458</td>\n",
       "      <td>0.71005</td>\n",
       "      <td>1.11215</td>\n",
       "      <td>2.12085</td>\n",
       "      <td>0.55482</td>\n",
       "      <td>4.46708</td>\n",
       "      <td>4.53090</td>\n",
       "    </tr>\n",
       "    <tr>\n",
       "      <th>2</th>\n",
       "      <td>7852</td>\n",
       "      <td>120053</td>\n",
       "      <td>No</td>\n",
       "      <td>RICE</td>\n",
       "      <td>PANG</td>\n",
       "      <td>N</td>\n",
       "      <td>N</td>\n",
       "      <td>20000615</td>\n",
       "      <td>3</td>\n",
       "      <td>2</td>\n",
       "      <td>...</td>\n",
       "      <td>0.84386</td>\n",
       "      <td>4.54963</td>\n",
       "      <td>4.09241</td>\n",
       "      <td>0.76311</td>\n",
       "      <td>1.63626</td>\n",
       "      <td>0.85108</td>\n",
       "      <td>1.77748</td>\n",
       "      <td>0.63992</td>\n",
       "      <td>4.60701</td>\n",
       "      <td>4.53979</td>\n",
       "    </tr>\n",
       "    <tr>\n",
       "      <th>3</th>\n",
       "      <td>3824</td>\n",
       "      <td>120054</td>\n",
       "      <td>No</td>\n",
       "      <td>PARQ</td>\n",
       "      <td>LUCA</td>\n",
       "      <td>N</td>\n",
       "      <td>N</td>\n",
       "      <td>20000615</td>\n",
       "      <td>2</td>\n",
       "      <td>2</td>\n",
       "      <td>...</td>\n",
       "      <td>0.99371</td>\n",
       "      <td>1.43989</td>\n",
       "      <td>1.19864</td>\n",
       "      <td>-1.16884</td>\n",
       "      <td>1.63606</td>\n",
       "      <td>1.21352</td>\n",
       "      <td>1.07811</td>\n",
       "      <td>0.53820</td>\n",
       "      <td>4.53165</td>\n",
       "      <td>4.53712</td>\n",
       "    </tr>\n",
       "    <tr>\n",
       "      <th>4</th>\n",
       "      <td>5876</td>\n",
       "      <td>120055</td>\n",
       "      <td>Yes</td>\n",
       "      <td>PASV</td>\n",
       "      <td>QUEZ</td>\n",
       "      <td>E</td>\n",
       "      <td>E</td>\n",
       "      <td>20000615</td>\n",
       "      <td>3</td>\n",
       "      <td>3</td>\n",
       "      <td>...</td>\n",
       "      <td>1.61258</td>\n",
       "      <td>4.17863</td>\n",
       "      <td>0.83442</td>\n",
       "      <td>-2.00100</td>\n",
       "      <td>2.93086</td>\n",
       "      <td>1.94685</td>\n",
       "      <td>3.39644</td>\n",
       "      <td>1.04180</td>\n",
       "      <td>4.53202</td>\n",
       "      <td>4.50515</td>\n",
       "    </tr>\n",
       "  </tbody>\n",
       "</table>\n",
       "<p>5 rows × 218 columns</p>\n",
       "</div>"
      ],
      "text/plain": [
       "      id  gameID HTWins    VT    HT VTleague HTleague      date  VTcumRest  \\\n",
       "0   5041  120051     No  BATA  CALO        N        N  20000615          1   \n",
       "1  10666  120052    Yes  MANL  NAVO        N        N  20000615          2   \n",
       "2   7852  120053     No  RICE  PANG        N        N  20000615          3   \n",
       "3   3824  120054     No  PARQ  LUCA        N        N  20000615          2   \n",
       "4   5876  120055    Yes  PASV  QUEZ        E        E  20000615          3   \n",
       "\n",
       "   HTcumRest  ...  HT.OS4.to  HT.OS4.fgm  HT.OS4.oreb  HT.OS5.plmin  \\\n",
       "0          2  ...    1.85756     4.66096      0.83711      -1.44583   \n",
       "1          2  ...    0.70504     1.39478      0.50301      -2.27458   \n",
       "2          2  ...    0.84386     4.54963      4.09241       0.76311   \n",
       "3          2  ...    0.99371     1.43989      1.19864      -1.16884   \n",
       "4          3  ...    1.61258     4.17863      0.83442      -2.00100   \n",
       "\n",
       "   HT.OS5.dreb  HT.OS5.to  HT.OS5.fgm  HT.OS5.oreb  HT.pmxU  HT.pmxW  \n",
       "0      3.87948    1.91473     2.61613      3.91852  4.57092  4.53993  \n",
       "1      0.71005    1.11215     2.12085      0.55482  4.46708  4.53090  \n",
       "2      1.63626    0.85108     1.77748      0.63992  4.60701  4.53979  \n",
       "3      1.63606    1.21352     1.07811      0.53820  4.53165  4.53712  \n",
       "4      2.93086    1.94685     3.39644      1.04180  4.53202  4.50515  \n",
       "\n",
       "[5 rows x 218 columns]"
      ]
     },
     "execution_count": 2,
     "metadata": {},
     "output_type": "execute_result"
    }
   ],
   "source": [
    "df_train = pd.read_csv('train.csv')\n",
    "df_train.head()"
   ]
  },
  {
   "cell_type": "code",
   "execution_count": 3,
   "metadata": {},
   "outputs": [
    {
     "name": "stdout",
     "output_type": "stream",
     "text": [
      "<class 'pandas.core.frame.DataFrame'>\n",
      "RangeIndex: 9520 entries, 0 to 9519\n",
      "Columns: 218 entries, id to HT.pmxW\n",
      "dtypes: float64(208), int64(5), object(5)\n",
      "memory usage: 15.8+ MB\n"
     ]
    }
   ],
   "source": [
    "df_train.info()"
   ]
  },
  {
   "cell_type": "code",
   "execution_count": 4,
   "metadata": {},
   "outputs": [
    {
     "data": {
      "text/html": [
       "<div>\n",
       "<style scoped>\n",
       "    .dataframe tbody tr th:only-of-type {\n",
       "        vertical-align: middle;\n",
       "    }\n",
       "\n",
       "    .dataframe tbody tr th {\n",
       "        vertical-align: top;\n",
       "    }\n",
       "\n",
       "    .dataframe thead th {\n",
       "        text-align: right;\n",
       "    }\n",
       "</style>\n",
       "<table border=\"1\" class=\"dataframe\">\n",
       "  <thead>\n",
       "    <tr style=\"text-align: right;\">\n",
       "      <th></th>\n",
       "      <th>id</th>\n",
       "      <th>gameID</th>\n",
       "      <th>date</th>\n",
       "      <th>VTcumRest</th>\n",
       "      <th>HTcumRest</th>\n",
       "      <th>VT.TS.fgm</th>\n",
       "      <th>VT.TS.fga</th>\n",
       "      <th>VT.TS.tpm</th>\n",
       "      <th>VT.TS.tpa</th>\n",
       "      <th>VT.TS.fta</th>\n",
       "      <th>...</th>\n",
       "      <th>HT.OS4.to</th>\n",
       "      <th>HT.OS4.fgm</th>\n",
       "      <th>HT.OS4.oreb</th>\n",
       "      <th>HT.OS5.plmin</th>\n",
       "      <th>HT.OS5.dreb</th>\n",
       "      <th>HT.OS5.to</th>\n",
       "      <th>HT.OS5.fgm</th>\n",
       "      <th>HT.OS5.oreb</th>\n",
       "      <th>HT.pmxU</th>\n",
       "      <th>HT.pmxW</th>\n",
       "    </tr>\n",
       "  </thead>\n",
       "  <tbody>\n",
       "    <tr>\n",
       "      <th>count</th>\n",
       "      <td>9520.000000</td>\n",
       "      <td>9520.000000</td>\n",
       "      <td>9.520000e+03</td>\n",
       "      <td>9520.000000</td>\n",
       "      <td>9520.000000</td>\n",
       "      <td>9520.000000</td>\n",
       "      <td>9520.000000</td>\n",
       "      <td>9520.000000</td>\n",
       "      <td>9520.000000</td>\n",
       "      <td>9520.000000</td>\n",
       "      <td>...</td>\n",
       "      <td>9520.000000</td>\n",
       "      <td>9520.000000</td>\n",
       "      <td>9520.000000</td>\n",
       "      <td>9520.000000</td>\n",
       "      <td>9520.000000</td>\n",
       "      <td>9520.000000</td>\n",
       "      <td>9520.000000</td>\n",
       "      <td>9520.000000</td>\n",
       "      <td>9520.000000</td>\n",
       "      <td>9520.000000</td>\n",
       "    </tr>\n",
       "    <tr>\n",
       "      <th>mean</th>\n",
       "      <td>5747.145273</td>\n",
       "      <td>124810.500000</td>\n",
       "      <td>2.005909e+07</td>\n",
       "      <td>756.540966</td>\n",
       "      <td>756.534979</td>\n",
       "      <td>36.955143</td>\n",
       "      <td>81.210012</td>\n",
       "      <td>6.842622</td>\n",
       "      <td>19.512576</td>\n",
       "      <td>24.310917</td>\n",
       "      <td>...</td>\n",
       "      <td>1.450746</td>\n",
       "      <td>4.056115</td>\n",
       "      <td>1.414186</td>\n",
       "      <td>-0.210658</td>\n",
       "      <td>2.781713</td>\n",
       "      <td>1.087384</td>\n",
       "      <td>3.115571</td>\n",
       "      <td>1.315221</td>\n",
       "      <td>4.590026</td>\n",
       "      <td>4.587861</td>\n",
       "    </tr>\n",
       "    <tr>\n",
       "      <th>std</th>\n",
       "      <td>3322.876440</td>\n",
       "      <td>2748.331615</td>\n",
       "      <td>3.778386e+04</td>\n",
       "      <td>435.295910</td>\n",
       "      <td>435.259131</td>\n",
       "      <td>2.497150</td>\n",
       "      <td>3.027518</td>\n",
       "      <td>1.701211</td>\n",
       "      <td>4.913610</td>\n",
       "      <td>2.314224</td>\n",
       "      <td>...</td>\n",
       "      <td>0.609949</td>\n",
       "      <td>1.619330</td>\n",
       "      <td>1.115831</td>\n",
       "      <td>2.068829</td>\n",
       "      <td>1.304170</td>\n",
       "      <td>0.533028</td>\n",
       "      <td>1.523292</td>\n",
       "      <td>0.981385</td>\n",
       "      <td>0.037670</td>\n",
       "      <td>0.022505</td>\n",
       "    </tr>\n",
       "    <tr>\n",
       "      <th>min</th>\n",
       "      <td>1.000000</td>\n",
       "      <td>120051.000000</td>\n",
       "      <td>2.000062e+07</td>\n",
       "      <td>1.000000</td>\n",
       "      <td>2.000000</td>\n",
       "      <td>25.491150</td>\n",
       "      <td>72.290460</td>\n",
       "      <td>2.720660</td>\n",
       "      <td>7.154530</td>\n",
       "      <td>17.385500</td>\n",
       "      <td>...</td>\n",
       "      <td>0.047350</td>\n",
       "      <td>0.070850</td>\n",
       "      <td>0.001590</td>\n",
       "      <td>-8.586140</td>\n",
       "      <td>0.322670</td>\n",
       "      <td>0.024610</td>\n",
       "      <td>0.014640</td>\n",
       "      <td>0.000260</td>\n",
       "      <td>4.463300</td>\n",
       "      <td>4.505150</td>\n",
       "    </tr>\n",
       "    <tr>\n",
       "      <th>25%</th>\n",
       "      <td>2879.750000</td>\n",
       "      <td>122430.750000</td>\n",
       "      <td>2.003060e+07</td>\n",
       "      <td>379.750000</td>\n",
       "      <td>380.000000</td>\n",
       "      <td>35.248870</td>\n",
       "      <td>79.119678</td>\n",
       "      <td>5.697600</td>\n",
       "      <td>16.122730</td>\n",
       "      <td>22.676468</td>\n",
       "      <td>...</td>\n",
       "      <td>1.013013</td>\n",
       "      <td>2.883070</td>\n",
       "      <td>0.514105</td>\n",
       "      <td>-1.584465</td>\n",
       "      <td>1.778728</td>\n",
       "      <td>0.709675</td>\n",
       "      <td>1.979488</td>\n",
       "      <td>0.505900</td>\n",
       "      <td>4.563257</td>\n",
       "      <td>4.572497</td>\n",
       "    </tr>\n",
       "    <tr>\n",
       "      <th>50%</th>\n",
       "      <td>5734.000000</td>\n",
       "      <td>124810.500000</td>\n",
       "      <td>2.005112e+07</td>\n",
       "      <td>762.000000</td>\n",
       "      <td>761.000000</td>\n",
       "      <td>36.894435</td>\n",
       "      <td>81.183410</td>\n",
       "      <td>6.715185</td>\n",
       "      <td>19.043485</td>\n",
       "      <td>24.041135</td>\n",
       "      <td>...</td>\n",
       "      <td>1.374220</td>\n",
       "      <td>3.946410</td>\n",
       "      <td>1.101205</td>\n",
       "      <td>-0.386860</td>\n",
       "      <td>2.525475</td>\n",
       "      <td>1.016020</td>\n",
       "      <td>2.986440</td>\n",
       "      <td>1.093475</td>\n",
       "      <td>4.586935</td>\n",
       "      <td>4.588550</td>\n",
       "    </tr>\n",
       "    <tr>\n",
       "      <th>75%</th>\n",
       "      <td>8629.250000</td>\n",
       "      <td>127190.250000</td>\n",
       "      <td>2.009113e+07</td>\n",
       "      <td>1131.000000</td>\n",
       "      <td>1131.250000</td>\n",
       "      <td>38.577308</td>\n",
       "      <td>83.354997</td>\n",
       "      <td>7.923325</td>\n",
       "      <td>22.562528</td>\n",
       "      <td>25.920097</td>\n",
       "      <td>...</td>\n",
       "      <td>1.816495</td>\n",
       "      <td>5.070812</td>\n",
       "      <td>2.100840</td>\n",
       "      <td>1.025105</td>\n",
       "      <td>3.537380</td>\n",
       "      <td>1.376105</td>\n",
       "      <td>4.080233</td>\n",
       "      <td>1.940497</td>\n",
       "      <td>4.616090</td>\n",
       "      <td>4.599650</td>\n",
       "    </tr>\n",
       "    <tr>\n",
       "      <th>max</th>\n",
       "      <td>11520.000000</td>\n",
       "      <td>129570.000000</td>\n",
       "      <td>2.012072e+07</td>\n",
       "      <td>1551.000000</td>\n",
       "      <td>1548.000000</td>\n",
       "      <td>47.043890</td>\n",
       "      <td>90.339110</td>\n",
       "      <td>14.125350</td>\n",
       "      <td>43.466480</td>\n",
       "      <td>31.686800</td>\n",
       "      <td>...</td>\n",
       "      <td>4.507910</td>\n",
       "      <td>11.598940</td>\n",
       "      <td>7.841120</td>\n",
       "      <td>12.023930</td>\n",
       "      <td>9.642890</td>\n",
       "      <td>4.493820</td>\n",
       "      <td>10.623580</td>\n",
       "      <td>6.014180</td>\n",
       "      <td>4.737440</td>\n",
       "      <td>4.657320</td>\n",
       "    </tr>\n",
       "  </tbody>\n",
       "</table>\n",
       "<p>8 rows × 213 columns</p>\n",
       "</div>"
      ],
      "text/plain": [
       "                 id         gameID          date    VTcumRest    HTcumRest  \\\n",
       "count   9520.000000    9520.000000  9.520000e+03  9520.000000  9520.000000   \n",
       "mean    5747.145273  124810.500000  2.005909e+07   756.540966   756.534979   \n",
       "std     3322.876440    2748.331615  3.778386e+04   435.295910   435.259131   \n",
       "min        1.000000  120051.000000  2.000062e+07     1.000000     2.000000   \n",
       "25%     2879.750000  122430.750000  2.003060e+07   379.750000   380.000000   \n",
       "50%     5734.000000  124810.500000  2.005112e+07   762.000000   761.000000   \n",
       "75%     8629.250000  127190.250000  2.009113e+07  1131.000000  1131.250000   \n",
       "max    11520.000000  129570.000000  2.012072e+07  1551.000000  1548.000000   \n",
       "\n",
       "         VT.TS.fgm    VT.TS.fga    VT.TS.tpm    VT.TS.tpa    VT.TS.fta  ...  \\\n",
       "count  9520.000000  9520.000000  9520.000000  9520.000000  9520.000000  ...   \n",
       "mean     36.955143    81.210012     6.842622    19.512576    24.310917  ...   \n",
       "std       2.497150     3.027518     1.701211     4.913610     2.314224  ...   \n",
       "min      25.491150    72.290460     2.720660     7.154530    17.385500  ...   \n",
       "25%      35.248870    79.119678     5.697600    16.122730    22.676468  ...   \n",
       "50%      36.894435    81.183410     6.715185    19.043485    24.041135  ...   \n",
       "75%      38.577308    83.354997     7.923325    22.562528    25.920097  ...   \n",
       "max      47.043890    90.339110    14.125350    43.466480    31.686800  ...   \n",
       "\n",
       "         HT.OS4.to   HT.OS4.fgm  HT.OS4.oreb  HT.OS5.plmin  HT.OS5.dreb  \\\n",
       "count  9520.000000  9520.000000  9520.000000   9520.000000  9520.000000   \n",
       "mean      1.450746     4.056115     1.414186     -0.210658     2.781713   \n",
       "std       0.609949     1.619330     1.115831      2.068829     1.304170   \n",
       "min       0.047350     0.070850     0.001590     -8.586140     0.322670   \n",
       "25%       1.013013     2.883070     0.514105     -1.584465     1.778728   \n",
       "50%       1.374220     3.946410     1.101205     -0.386860     2.525475   \n",
       "75%       1.816495     5.070812     2.100840      1.025105     3.537380   \n",
       "max       4.507910    11.598940     7.841120     12.023930     9.642890   \n",
       "\n",
       "         HT.OS5.to   HT.OS5.fgm  HT.OS5.oreb      HT.pmxU      HT.pmxW  \n",
       "count  9520.000000  9520.000000  9520.000000  9520.000000  9520.000000  \n",
       "mean      1.087384     3.115571     1.315221     4.590026     4.587861  \n",
       "std       0.533028     1.523292     0.981385     0.037670     0.022505  \n",
       "min       0.024610     0.014640     0.000260     4.463300     4.505150  \n",
       "25%       0.709675     1.979488     0.505900     4.563257     4.572497  \n",
       "50%       1.016020     2.986440     1.093475     4.586935     4.588550  \n",
       "75%       1.376105     4.080233     1.940497     4.616090     4.599650  \n",
       "max       4.493820    10.623580     6.014180     4.737440     4.657320  \n",
       "\n",
       "[8 rows x 213 columns]"
      ]
     },
     "execution_count": 4,
     "metadata": {},
     "output_type": "execute_result"
    }
   ],
   "source": [
    "df_train.describe()"
   ]
  },
  {
   "cell_type": "code",
   "execution_count": 5,
   "metadata": {},
   "outputs": [
    {
     "data": {
      "text/plain": [
       "id             0\n",
       "HT.TA.pf       0\n",
       "HT.TA.pts      0\n",
       "HT.OTS.fgm     0\n",
       "HT.OTS.fga     0\n",
       "              ..\n",
       "VT.S4.plmin    0\n",
       "VT.S4.pts      0\n",
       "VT.S4.min      0\n",
       "VT.S2.pts      0\n",
       "HT.pmxW        0\n",
       "Length: 218, dtype: int64"
      ]
     },
     "execution_count": 5,
     "metadata": {},
     "output_type": "execute_result"
    }
   ],
   "source": [
    "df_train.isnull().sum().sort_values()"
   ]
  },
  {
   "cell_type": "code",
   "execution_count": 6,
   "metadata": {},
   "outputs": [
    {
     "data": {
      "text/plain": [
       "<matplotlib.axes._subplots.AxesSubplot at 0x7fd945bb43d0>"
      ]
     },
     "execution_count": 6,
     "metadata": {},
     "output_type": "execute_result"
    },
    {
     "data": {
      "image/png": "[encoded data removed]",
      "text/plain": [
       "<Figure size 864x576 with 2 Axes>"
      ]
     },
     "metadata": {
      "needs_background": "light"
     },
     "output_type": "display_data"
    }
   ],
   "source": [
    "plt.figure(figsize = (12,8))\n",
    "sns.heatmap(df_train.corr())"
   ]
  },
  {
   "cell_type": "code",
   "execution_count": 7,
   "metadata": {},
   "outputs": [
    {
     "data": {
      "text/html": [
       "<div>\n",
       "<style scoped>\n",
       "    .dataframe tbody tr th:only-of-type {\n",
       "        vertical-align: middle;\n",
       "    }\n",
       "\n",
       "    .dataframe tbody tr th {\n",
       "        vertical-align: top;\n",
       "    }\n",
       "\n",
       "    .dataframe thead th {\n",
       "        text-align: right;\n",
       "    }\n",
       "</style>\n",
       "<table border=\"1\" class=\"dataframe\">\n",
       "  <thead>\n",
       "    <tr style=\"text-align: right;\">\n",
       "      <th></th>\n",
       "      <th>id</th>\n",
       "      <th>gameID</th>\n",
       "      <th>date</th>\n",
       "      <th>VTcumRest</th>\n",
       "      <th>HTcumRest</th>\n",
       "      <th>VT.TS.fgm</th>\n",
       "      <th>VT.TS.fga</th>\n",
       "      <th>VT.TS.tpm</th>\n",
       "      <th>VT.TS.tpa</th>\n",
       "      <th>VT.TS.fta</th>\n",
       "      <th>...</th>\n",
       "      <th>HT.OS4.to</th>\n",
       "      <th>HT.OS4.fgm</th>\n",
       "      <th>HT.OS4.oreb</th>\n",
       "      <th>HT.OS5.plmin</th>\n",
       "      <th>HT.OS5.dreb</th>\n",
       "      <th>HT.OS5.to</th>\n",
       "      <th>HT.OS5.fgm</th>\n",
       "      <th>HT.OS5.oreb</th>\n",
       "      <th>HT.pmxU</th>\n",
       "      <th>HT.pmxW</th>\n",
       "    </tr>\n",
       "    <tr>\n",
       "      <th>HTWins</th>\n",
       "      <th></th>\n",
       "      <th></th>\n",
       "      <th></th>\n",
       "      <th></th>\n",
       "      <th></th>\n",
       "      <th></th>\n",
       "      <th></th>\n",
       "      <th></th>\n",
       "      <th></th>\n",
       "      <th></th>\n",
       "      <th></th>\n",
       "      <th></th>\n",
       "      <th></th>\n",
       "      <th></th>\n",
       "      <th></th>\n",
       "      <th></th>\n",
       "      <th></th>\n",
       "      <th></th>\n",
       "      <th></th>\n",
       "      <th></th>\n",
       "      <th></th>\n",
       "    </tr>\n",
       "  </thead>\n",
       "  <tbody>\n",
       "    <tr>\n",
       "      <th>No</th>\n",
       "      <td>5739.657195</td>\n",
       "      <td>124847.500646</td>\n",
       "      <td>2.005959e+07</td>\n",
       "      <td>762.300181</td>\n",
       "      <td>762.063549</td>\n",
       "      <td>37.179058</td>\n",
       "      <td>81.071460</td>\n",
       "      <td>7.040656</td>\n",
       "      <td>19.971458</td>\n",
       "      <td>24.289027</td>\n",
       "      <td>...</td>\n",
       "      <td>1.444424</td>\n",
       "      <td>4.083125</td>\n",
       "      <td>1.406661</td>\n",
       "      <td>0.224831</td>\n",
       "      <td>2.870841</td>\n",
       "      <td>1.083858</td>\n",
       "      <td>3.122927</td>\n",
       "      <td>1.325259</td>\n",
       "      <td>4.594963</td>\n",
       "      <td>4.588115</td>\n",
       "    </tr>\n",
       "    <tr>\n",
       "      <th>Yes</th>\n",
       "      <td>5752.276509</td>\n",
       "      <td>124785.145158</td>\n",
       "      <td>2.005875e+07</td>\n",
       "      <td>752.594441</td>\n",
       "      <td>752.746504</td>\n",
       "      <td>36.801704</td>\n",
       "      <td>81.304956</td>\n",
       "      <td>6.706919</td>\n",
       "      <td>19.198125</td>\n",
       "      <td>24.325918</td>\n",
       "      <td>...</td>\n",
       "      <td>1.455078</td>\n",
       "      <td>4.037607</td>\n",
       "      <td>1.419343</td>\n",
       "      <td>-0.509079</td>\n",
       "      <td>2.720638</td>\n",
       "      <td>1.089800</td>\n",
       "      <td>3.110530</td>\n",
       "      <td>1.308343</td>\n",
       "      <td>4.586643</td>\n",
       "      <td>4.587687</td>\n",
       "    </tr>\n",
       "  </tbody>\n",
       "</table>\n",
       "<p>2 rows × 213 columns</p>\n",
       "</div>"
      ],
      "text/plain": [
       "                 id         gameID          date   VTcumRest   HTcumRest  \\\n",
       "HTWins                                                                     \n",
       "No      5739.657195  124847.500646  2.005959e+07  762.300181  762.063549   \n",
       "Yes     5752.276509  124785.145158  2.005875e+07  752.594441  752.746504   \n",
       "\n",
       "        VT.TS.fgm  VT.TS.fga  VT.TS.tpm  VT.TS.tpa  VT.TS.fta  ...  HT.OS4.to  \\\n",
       "HTWins                                                         ...              \n",
       "No      37.179058  81.071460   7.040656  19.971458  24.289027  ...   1.444424   \n",
       "Yes     36.801704  81.304956   6.706919  19.198125  24.325918  ...   1.455078   \n",
       "\n",
       "        HT.OS4.fgm  HT.OS4.oreb  HT.OS5.plmin  HT.OS5.dreb  HT.OS5.to  \\\n",
       "HTWins                                                                  \n",
       "No        4.083125     1.406661      0.224831     2.870841   1.083858   \n",
       "Yes       4.037607     1.419343     -0.509079     2.720638   1.089800   \n",
       "\n",
       "        HT.OS5.fgm  HT.OS5.oreb   HT.pmxU   HT.pmxW  \n",
       "HTWins                                               \n",
       "No        3.122927     1.325259  4.594963  4.588115  \n",
       "Yes       3.110530     1.308343  4.586643  4.587687  \n",
       "\n",
       "[2 rows x 213 columns]"
      ]
     },
     "execution_count": 7,
     "metadata": {},
     "output_type": "execute_result"
    }
   ],
   "source": [
    "df_train.groupby('HTWins').mean()"
   ]
  },
  {
   "cell_type": "markdown",
   "metadata": {},
   "source": [
    "# Data Pre-Processing"
   ]
  },
  {
   "cell_type": "markdown",
   "metadata": {},
   "source": [
    "- Remove `id`, `gameID`, `date`"
   ]
  },
  {
   "cell_type": "code",
   "execution_count": 8,
   "metadata": {},
   "outputs": [],
   "source": [
    "df_train.drop(['id', 'gameID', 'date'], axis=1, inplace=True)"
   ]
  },
  {
   "cell_type": "markdown",
   "metadata": {},
   "source": [
    "- Remove all duplicated features containing 'OTS', 'OTA', or 'OS'"
   ]
  },
  {
   "cell_type": "code",
   "execution_count": 9,
   "metadata": {},
   "outputs": [],
   "source": [
    "del_keywords = ['OTS', 'OTA', 'OS']\n",
    "\n",
    "for keyword in del_keywords:\n",
    "    df_train.drop(df_train.filter(regex=keyword).columns, axis=1, inplace=True)"
   ]
  },
  {
   "cell_type": "markdown",
   "metadata": {},
   "source": [
    "# Feature Engineering"
   ]
  },
  {
   "cell_type": "markdown",
   "metadata": {},
   "source": [
    "## Categorical Features"
   ]
  },
  {
   "cell_type": "code",
   "execution_count": 10,
   "metadata": {},
   "outputs": [
    {
     "data": {
      "text/plain": [
       "Index(['HTWins', 'VT', 'HT', 'VTleague', 'HTleague'], dtype='object')"
      ]
     },
     "execution_count": 10,
     "metadata": {},
     "output_type": "execute_result"
    }
   ],
   "source": [
    "df_train.select_dtypes('object').columns"
   ]
  },
  {
   "cell_type": "markdown",
   "metadata": {},
   "source": [
    "- Turn `HTWins` into binary numeric"
   ]
  },
  {
   "cell_type": "code",
   "execution_count": 11,
   "metadata": {},
   "outputs": [
    {
     "data": {
      "text/plain": [
       "array(['No', 'Yes'], dtype=object)"
      ]
     },
     "execution_count": 11,
     "metadata": {},
     "output_type": "execute_result"
    }
   ],
   "source": [
    "df_train['HTWins'].unique()"
   ]
  },
  {
   "cell_type": "code",
   "execution_count": 12,
   "metadata": {},
   "outputs": [],
   "source": [
    "df_train['HTWins'] = df_train['HTWins'].map({'Yes': 1, 'No': 0})"
   ]
  },
  {
   "cell_type": "markdown",
   "metadata": {},
   "source": [
    "- Create dummy variables for `HT`, `VT`, `HTleague`, and `VTleague`"
   ]
  },
  {
   "cell_type": "code",
   "execution_count": 13,
   "metadata": {},
   "outputs": [
    {
     "data": {
      "text/plain": [
       "Index([], dtype='object')"
      ]
     },
     "execution_count": 13,
     "metadata": {},
     "output_type": "execute_result"
    }
   ],
   "source": [
    "var_for_dummies = ['HT', 'VT', 'HTleague', 'VTleague']\n",
    "\n",
    "dummies = pd.get_dummies(df_train[var_for_dummies], drop_first=True)\n",
    "df_train.drop(var_for_dummies, axis=1, inplace=True)\n",
    "df_train = pd.concat([df_train, dummies], axis=1)\n",
    "\n",
    "df_train.select_dtypes('object').columns"
   ]
  },
  {
   "cell_type": "markdown",
   "metadata": {},
   "source": [
    "# Train-Test Split and Scaling"
   ]
  },
  {
   "cell_type": "code",
   "execution_count": 14,
   "metadata": {},
   "outputs": [],
   "source": [
    "from sklearn.model_selection import train_test_split"
   ]
  },
  {
   "cell_type": "code",
   "execution_count": 15,
   "metadata": {},
   "outputs": [],
   "source": [
    "X = df_train.drop('HTWins', axis=1).values\n",
    "y = df_train['HTWins'].values"
   ]
  },
  {
   "cell_type": "code",
   "execution_count": 16,
   "metadata": {},
   "outputs": [],
   "source": [
    "X_train, X_val, y_train, y_val = train_test_split(X, y, test_size=0.3, random_state=42)"
   ]
  },
  {
   "cell_type": "code",
   "execution_count": 17,
   "metadata": {},
   "outputs": [],
   "source": [
    "# We'll skip MinMaxScaling step for now because we will standardize input features later when training the ANN\n",
    "\n",
    "# from sklearn.preprocessing import MinMaxScaler\n",
    "\n",
    "# scaler = MinMaxScaler()\n",
    "\n",
    "# X_train = scaler.fit_transform(X_train)\n",
    "# X_val = scaler.transform(X_val)"
   ]
  },
  {
   "cell_type": "markdown",
   "metadata": {},
   "source": [
    "# Modeling"
   ]
  },
  {
   "cell_type": "markdown",
   "metadata": {},
   "source": [
    "## Logistic Regression"
   ]
  },
  {
   "cell_type": "code",
   "execution_count": 18,
   "metadata": {},
   "outputs": [],
   "source": [
    "from sklearn.linear_model import LogisticRegression"
   ]
  },
  {
   "cell_type": "code",
   "execution_count": 19,
   "metadata": {},
   "outputs": [
    {
     "name": "stderr",
     "output_type": "stream",
     "text": [
      "/Users/yuangchen/opt/anaconda3/lib/python3.7/site-packages/sklearn/linear_model/_logistic.py:940: ConvergenceWarning: lbfgs failed to converge (status=1):\n",
      "STOP: TOTAL NO. of ITERATIONS REACHED LIMIT.\n",
      "\n",
      "Increase the number of iterations (max_iter) or scale the data as shown in:\n",
      "    https://scikit-learn.org/stable/modules/preprocessing.html\n",
      "Please also refer to the documentation for alternative solver options:\n",
      "    https://scikit-learn.org/stable/modules/linear_model.html#logistic-regression\n",
      "  extra_warning_msg=_LOGISTIC_SOLVER_CONVERGENCE_MSG)\n"
     ]
    },
    {
     "data": {
      "text/plain": [
       "0.6691176470588235"
      ]
     },
     "execution_count": 19,
     "metadata": {},
     "output_type": "execute_result"
    }
   ],
   "source": [
    "log_clf = LogisticRegression(random_state=42)\n",
    "\n",
    "log_clf.fit(X_train, y_train)\n",
    "log_clf.score(X_val, y_val)"
   ]
  },
  {
   "cell_type": "markdown",
   "metadata": {},
   "source": [
    "## Random Forest Classifier"
   ]
  },
  {
   "cell_type": "code",
   "execution_count": 20,
   "metadata": {},
   "outputs": [],
   "source": [
    "from sklearn.ensemble import RandomForestClassifier"
   ]
  },
  {
   "cell_type": "code",
   "execution_count": 21,
   "metadata": {},
   "outputs": [
    {
     "data": {
      "text/plain": [
       "0.6551120448179272"
      ]
     },
     "execution_count": 21,
     "metadata": {},
     "output_type": "execute_result"
    }
   ],
   "source": [
    "rf_clf = RandomForestClassifier(n_estimators=500, max_leaf_nodes=18, random_state=42)\n",
    "\n",
    "rf_clf.fit(X_train, y_train)\n",
    "rf_clf.score(X_val, y_val)"
   ]
  },
  {
   "cell_type": "markdown",
   "metadata": {},
   "source": [
    "- Hyperparameter Tuning using Grid Search"
   ]
  },
  {
   "cell_type": "code",
   "execution_count": 22,
   "metadata": {},
   "outputs": [],
   "source": [
    "from sklearn.model_selection import GridSearchCV"
   ]
  },
  {
   "cell_type": "code",
   "execution_count": 23,
   "metadata": {},
   "outputs": [
    {
     "name": "stdout",
     "output_type": "stream",
     "text": [
      "Fitting 3 folds for each of 12 candidates, totalling 36 fits\n",
      "[CV] min_samples_split=2, n_estimators=200 ...........................\n"
     ]
    },
    {
     "name": "stderr",
     "output_type": "stream",
     "text": [
      "[Parallel(n_jobs=1)]: Using backend SequentialBackend with 1 concurrent workers.\n"
     ]
    },
    {
     "name": "stdout",
     "output_type": "stream",
     "text": [
      "[CV] ............ min_samples_split=2, n_estimators=200, total=   4.5s\n",
      "[CV] min_samples_split=2, n_estimators=200 ...........................\n"
     ]
    },
    {
     "name": "stderr",
     "output_type": "stream",
     "text": [
      "[Parallel(n_jobs=1)]: Done   1 out of   1 | elapsed:    4.5s remaining:    0.0s\n"
     ]
    },
    {
     "name": "stdout",
     "output_type": "stream",
     "text": [
      "[CV] ............ min_samples_split=2, n_estimators=200, total=   4.9s\n",
      "[CV] min_samples_split=2, n_estimators=200 ...........................\n",
      "[CV] ............ min_samples_split=2, n_estimators=200, total=   4.4s\n",
      "[CV] min_samples_split=2, n_estimators=300 ...........................\n",
      "[CV] ............ min_samples_split=2, n_estimators=300, total=   6.7s\n",
      "[CV] min_samples_split=2, n_estimators=300 ...........................\n",
      "[CV] ............ min_samples_split=2, n_estimators=300, total=   6.7s\n",
      "[CV] min_samples_split=2, n_estimators=300 ...........................\n",
      "[CV] ............ min_samples_split=2, n_estimators=300, total=   6.7s\n",
      "[CV] min_samples_split=2, n_estimators=400 ...........................\n",
      "[CV] ............ min_samples_split=2, n_estimators=400, total=   8.9s\n",
      "[CV] min_samples_split=2, n_estimators=400 ...........................\n",
      "[CV] ............ min_samples_split=2, n_estimators=400, total=   9.0s\n",
      "[CV] min_samples_split=2, n_estimators=400 ...........................\n",
      "[CV] ............ min_samples_split=2, n_estimators=400, total=   8.7s\n",
      "[CV] min_samples_split=2, n_estimators=500 ...........................\n",
      "[CV] ............ min_samples_split=2, n_estimators=500, total=  11.9s\n",
      "[CV] min_samples_split=2, n_estimators=500 ...........................\n",
      "[CV] ............ min_samples_split=2, n_estimators=500, total=  12.6s\n",
      "[CV] min_samples_split=2, n_estimators=500 ...........................\n",
      "[CV] ............ min_samples_split=2, n_estimators=500, total=  11.9s\n",
      "[CV] min_samples_split=3, n_estimators=200 ...........................\n",
      "[CV] ............ min_samples_split=3, n_estimators=200, total=   4.9s\n",
      "[CV] min_samples_split=3, n_estimators=200 ...........................\n",
      "[CV] ............ min_samples_split=3, n_estimators=200, total=   4.9s\n",
      "[CV] min_samples_split=3, n_estimators=200 ...........................\n",
      "[CV] ............ min_samples_split=3, n_estimators=200, total=   4.7s\n",
      "[CV] min_samples_split=3, n_estimators=300 ...........................\n",
      "[CV] ............ min_samples_split=3, n_estimators=300, total=   7.2s\n",
      "[CV] min_samples_split=3, n_estimators=300 ...........................\n",
      "[CV] ............ min_samples_split=3, n_estimators=300, total=   7.2s\n",
      "[CV] min_samples_split=3, n_estimators=300 ...........................\n",
      "[CV] ............ min_samples_split=3, n_estimators=300, total=   6.6s\n",
      "[CV] min_samples_split=3, n_estimators=400 ...........................\n",
      "[CV] ............ min_samples_split=3, n_estimators=400, total=   9.1s\n",
      "[CV] min_samples_split=3, n_estimators=400 ...........................\n",
      "[CV] ............ min_samples_split=3, n_estimators=400, total=   9.0s\n",
      "[CV] min_samples_split=3, n_estimators=400 ...........................\n",
      "[CV] ............ min_samples_split=3, n_estimators=400, total=   8.8s\n",
      "[CV] min_samples_split=3, n_estimators=500 ...........................\n",
      "[CV] ............ min_samples_split=3, n_estimators=500, total=  11.3s\n",
      "[CV] min_samples_split=3, n_estimators=500 ...........................\n",
      "[CV] ............ min_samples_split=3, n_estimators=500, total=  11.2s\n",
      "[CV] min_samples_split=3, n_estimators=500 ...........................\n",
      "[CV] ............ min_samples_split=3, n_estimators=500, total=  11.0s\n",
      "[CV] min_samples_split=4, n_estimators=200 ...........................\n",
      "[CV] ............ min_samples_split=4, n_estimators=200, total=   4.5s\n",
      "[CV] min_samples_split=4, n_estimators=200 ...........................\n",
      "[CV] ............ min_samples_split=4, n_estimators=200, total=   4.5s\n",
      "[CV] min_samples_split=4, n_estimators=200 ...........................\n",
      "[CV] ............ min_samples_split=4, n_estimators=200, total=   4.4s\n",
      "[CV] min_samples_split=4, n_estimators=300 ...........................\n",
      "[CV] ............ min_samples_split=4, n_estimators=300, total=   6.7s\n",
      "[CV] min_samples_split=4, n_estimators=300 ...........................\n",
      "[CV] ............ min_samples_split=4, n_estimators=300, total=   6.7s\n",
      "[CV] min_samples_split=4, n_estimators=300 ...........................\n",
      "[CV] ............ min_samples_split=4, n_estimators=300, total=   6.6s\n",
      "[CV] min_samples_split=4, n_estimators=400 ...........................\n",
      "[CV] ............ min_samples_split=4, n_estimators=400, total=   8.9s\n",
      "[CV] min_samples_split=4, n_estimators=400 ...........................\n",
      "[CV] ............ min_samples_split=4, n_estimators=400, total=   8.9s\n",
      "[CV] min_samples_split=4, n_estimators=400 ...........................\n",
      "[CV] ............ min_samples_split=4, n_estimators=400, total=   8.9s\n",
      "[CV] min_samples_split=4, n_estimators=500 ...........................\n",
      "[CV] ............ min_samples_split=4, n_estimators=500, total=  11.2s\n",
      "[CV] min_samples_split=4, n_estimators=500 ...........................\n",
      "[CV] ............ min_samples_split=4, n_estimators=500, total=  11.5s\n",
      "[CV] min_samples_split=4, n_estimators=500 ...........................\n",
      "[CV] ............ min_samples_split=4, n_estimators=500, total=  11.0s\n"
     ]
    },
    {
     "name": "stderr",
     "output_type": "stream",
     "text": [
      "[Parallel(n_jobs=1)]: Done  36 out of  36 | elapsed:  4.8min finished\n"
     ]
    },
    {
     "data": {
      "text/plain": [
       "GridSearchCV(cv=3, error_score=nan,\n",
       "             estimator=RandomForestClassifier(bootstrap=True, ccp_alpha=0.0,\n",
       "                                              class_weight=None,\n",
       "                                              criterion='gini', max_depth=None,\n",
       "                                              max_features='auto',\n",
       "                                              max_leaf_nodes=None,\n",
       "                                              max_samples=None,\n",
       "                                              min_impurity_decrease=0.0,\n",
       "                                              min_impurity_split=None,\n",
       "                                              min_samples_leaf=1,\n",
       "                                              min_samples_split=2,\n",
       "                                              min_weight_fraction_leaf=0.0,\n",
       "                                              n_estimators=100, n_jobs=None,\n",
       "                                              oob_score=False, random_state=42,\n",
       "                                              verbose=0, warm_start=False),\n",
       "             iid='deprecated', n_jobs=None,\n",
       "             param_grid={'min_samples_split': [2, 3, 4],\n",
       "                         'n_estimators': [200, 300, 400, 500]},\n",
       "             pre_dispatch='2*n_jobs', refit=True, return_train_score=False,\n",
       "             scoring=None, verbose=2)"
      ]
     },
     "execution_count": 23,
     "metadata": {},
     "output_type": "execute_result"
    }
   ],
   "source": [
    "params = {'n_estimators':[200,300,400,500], 'min_samples_split': [2,3,4]}\n",
    "\n",
    "grid_search_cv = GridSearchCV(RandomForestClassifier(random_state=42), params, verbose=2, cv=3)\n",
    "grid_search_cv.fit(X_train, y_train)"
   ]
  },
  {
   "cell_type": "code",
   "execution_count": 24,
   "metadata": {},
   "outputs": [
    {
     "data": {
      "text/plain": [
       "0.6684173669467787"
      ]
     },
     "execution_count": 24,
     "metadata": {},
     "output_type": "execute_result"
    }
   ],
   "source": [
    "rf_clf_best = grid_search_cv.best_estimator_\n",
    "rf_clf_best.fit(X_train, y_train)\n",
    "rf_clf_best.score(X_val, y_val)"
   ]
  },
  {
   "cell_type": "markdown",
   "metadata": {},
   "source": [
    "## AdaBoost Classifier"
   ]
  },
  {
   "cell_type": "code",
   "execution_count": 25,
   "metadata": {},
   "outputs": [],
   "source": [
    "from sklearn.ensemble import AdaBoostClassifier\n",
    "\n",
    "ada_clf = AdaBoostClassifier(\n",
    "    rf_clf_best, n_estimators=500, algorithm=\"SAMME.R\", learning_rate=0.5, random_state=42\n",
    ")"
   ]
  },
  {
   "cell_type": "code",
   "execution_count": 26,
   "metadata": {},
   "outputs": [
    {
     "data": {
      "text/plain": [
       "0.6628151260504201"
      ]
     },
     "execution_count": 26,
     "metadata": {},
     "output_type": "execute_result"
    }
   ],
   "source": [
    "ada_clf.fit(X_train, y_train)\n",
    "ada_clf.score(X_val, y_val)"
   ]
  },
  {
   "cell_type": "markdown",
   "metadata": {},
   "source": [
    "## ANN using Keras\n",
    "- We'll create a Neural Network with 20 Dense layers:\n",
    "    - Kernal initialization: **LeCun initialization**\n",
    "    - Activation function: **SELU**\n",
    "    - Normalization: None (self-normalization)\n",
    "    - Regularization: **EarlyStopping**, **AlphaDropout**\n",
    "    - Optimizer: **Nadam**\n",
    "    - Learning rate schedule: **Performance scheduling**"
   ]
  },
  {
   "cell_type": "code",
   "execution_count": 27,
   "metadata": {},
   "outputs": [],
   "source": [
    "import tensorflow as tf\n",
    "from tensorflow import keras\n",
    "from tensorflow.keras.models import Sequential\n",
    "from tensorflow.keras.layers import Dense, AlphaDropout"
   ]
  },
  {
   "cell_type": "markdown",
   "metadata": {},
   "source": [
    "- Since we are using LeCun initialization with SELU, we need to **standardize input features** first."
   ]
  },
  {
   "cell_type": "code",
   "execution_count": 28,
   "metadata": {},
   "outputs": [],
   "source": [
    "inputFt_means = X_train.mean(axis=0, keepdims=True)\n",
    "inputFt_stds = X_train.std(axis=0, keepdims=True)"
   ]
  },
  {
   "cell_type": "code",
   "execution_count": 29,
   "metadata": {},
   "outputs": [],
   "source": [
    "X_train_scaled = (X_train - inputFt_means) / inputFt_stds\n",
    "X_val_scaled = (X_val - inputFt_means) / inputFt_stds"
   ]
  },
  {
   "cell_type": "markdown",
   "metadata": {},
   "source": [
    "- Now, let's build and compile the model."
   ]
  },
  {
   "cell_type": "code",
   "execution_count": 30,
   "metadata": {},
   "outputs": [],
   "source": [
    "ann_clf = Sequential()\n",
    "\n",
    "for sample in range(20):\n",
    "    ann_clf.add(Dense(100, activation='selu', kernel_initializer='lecun_normal'))\n",
    "    ann_clf.add(AlphaDropout(0.2))\n",
    "ann_clf.add(Dense(1, activation='sigmoid'))"
   ]
  },
  {
   "cell_type": "code",
   "execution_count": 31,
   "metadata": {},
   "outputs": [],
   "source": [
    "ann_clf.compile(optimizer='nadam', loss='binary_crossentropy', metrics=['accuracy'])"
   ]
  },
  {
   "cell_type": "markdown",
   "metadata": {},
   "source": [
    "- Now, we create the `EarlyStopping` and `ReduceLROnPlateau` (performance scheduling) callbacks."
   ]
  },
  {
   "cell_type": "code",
   "execution_count": 32,
   "metadata": {},
   "outputs": [],
   "source": [
    "lr_scheduler = keras.callbacks.ReduceLROnPlateau(factor=0.5, patience=5)\n",
    "early_stop = keras.callbacks.EarlyStopping(monitor='val_loss', mode='min', patience=20, verbose=1)"
   ]
  },
  {
   "cell_type": "code",
   "execution_count": 33,
   "metadata": {},
   "outputs": [
    {
     "name": "stdout",
     "output_type": "stream",
     "text": [
      "Train on 6664 samples, validate on 2856 samples\n",
      "Epoch 1/100\n",
      "6664/6664 [==============================] - 18s 3ms/sample - loss: 0.7907 - accuracy: 0.5255 - val_loss: 0.6848 - val_accuracy: 0.5931\n",
      "Epoch 2/100\n",
      "6664/6664 [==============================] - 9s 1ms/sample - loss: 0.7107 - accuracy: 0.5782 - val_loss: 1.1609 - val_accuracy: 0.5641\n",
      "Epoch 3/100\n",
      "6664/6664 [==============================] - 9s 1ms/sample - loss: 0.6776 - accuracy: 0.6013 - val_loss: 2.4028 - val_accuracy: 0.6278\n",
      "Epoch 4/100\n",
      "6664/6664 [==============================] - 9s 1ms/sample - loss: 0.6491 - accuracy: 0.6292 - val_loss: 4.1264 - val_accuracy: 0.6306\n",
      "Epoch 5/100\n",
      "6664/6664 [==============================] - 9s 1ms/sample - loss: 0.6424 - accuracy: 0.6214 - val_loss: 3.0592 - val_accuracy: 0.6362\n",
      "Epoch 6/100\n",
      "6664/6664 [==============================] - 9s 1ms/sample - loss: 0.6421 - accuracy: 0.6191 - val_loss: 10.5633 - val_accuracy: 0.6285\n",
      "Epoch 7/100\n",
      "6664/6664 [==============================] - 9s 1ms/sample - loss: 0.6378 - accuracy: 0.6232 - val_loss: 14.3433 - val_accuracy: 0.6271\n",
      "Epoch 8/100\n",
      "6664/6664 [==============================] - 9s 1ms/sample - loss: 0.6348 - accuracy: 0.6285 - val_loss: 22.6421 - val_accuracy: 0.6383\n",
      "Epoch 9/100\n",
      "6664/6664 [==============================] - 9s 1ms/sample - loss: 0.6302 - accuracy: 0.6349 - val_loss: 31.2973 - val_accuracy: 0.6355\n",
      "Epoch 10/100\n",
      "6664/6664 [==============================] - 9s 1ms/sample - loss: 0.6245 - accuracy: 0.6360 - val_loss: 49.1595 - val_accuracy: 0.6369\n",
      "Epoch 11/100\n",
      "6664/6664 [==============================] - 9s 1ms/sample - loss: 0.6173 - accuracy: 0.6531 - val_loss: 42.3976 - val_accuracy: 0.6404\n",
      "Epoch 12/100\n",
      "6664/6664 [==============================] - 9s 1ms/sample - loss: 0.6139 - accuracy: 0.6603 - val_loss: 46.5009 - val_accuracy: 0.6408\n",
      "Epoch 13/100\n",
      "6664/6664 [==============================] - 9s 1ms/sample - loss: 0.6166 - accuracy: 0.6550 - val_loss: 41.9769 - val_accuracy: 0.6394\n",
      "Epoch 14/100\n",
      "6664/6664 [==============================] - 9s 1ms/sample - loss: 0.6114 - accuracy: 0.6670 - val_loss: 65.5497 - val_accuracy: 0.6397\n",
      "Epoch 15/100\n",
      "6664/6664 [==============================] - 9s 1ms/sample - loss: 0.6128 - accuracy: 0.6625 - val_loss: 42.2580 - val_accuracy: 0.6436\n",
      "Epoch 16/100\n",
      "6664/6664 [==============================] - 10s 1ms/sample - loss: 0.6115 - accuracy: 0.6622 - val_loss: 70.6539 - val_accuracy: 0.6387\n",
      "Epoch 17/100\n",
      "6664/6664 [==============================] - 9s 1ms/sample - loss: 0.6135 - accuracy: 0.6624 - val_loss: 55.8891 - val_accuracy: 0.6390\n",
      "Epoch 18/100\n",
      "6664/6664 [==============================] - 9s 1ms/sample - loss: 0.6109 - accuracy: 0.6630 - val_loss: 57.6195 - val_accuracy: 0.6373\n",
      "Epoch 19/100\n",
      "6664/6664 [==============================] - 9s 1ms/sample - loss: 0.6100 - accuracy: 0.6642 - val_loss: 60.2099 - val_accuracy: 0.6390\n",
      "Epoch 20/100\n",
      "6664/6664 [==============================] - 9s 1ms/sample - loss: 0.6074 - accuracy: 0.6685 - val_loss: 53.6321 - val_accuracy: 0.6401\n",
      "Epoch 21/100\n",
      "6664/6664 [==============================] - 9s 1ms/sample - loss: 0.6096 - accuracy: 0.6667 - val_loss: 68.3274 - val_accuracy: 0.6394\n",
      "Epoch 00021: early stopping\n"
     ]
    }
   ],
   "source": [
    "history = ann_clf.fit(X_train_scaled, y_train, validation_data=(X_val_scaled, y_val), verbose=1, epochs=100, \n",
    "                      callbacks=[early_stop, lr_scheduler])"
   ]
  },
  {
   "cell_type": "code",
   "execution_count": 34,
   "metadata": {},
   "outputs": [
    {
     "data": {
      "text/plain": [
       "<matplotlib.axes._subplots.AxesSubplot at 0x7fd91ee3f350>"
      ]
     },
     "execution_count": 34,
     "metadata": {},
     "output_type": "execute_result"
    },
    {
     "data": {
      "image/png": "[encoded data removed]",
      "text/plain": [
       "<Figure size 432x288 with 1 Axes>"
      ]
     },
     "metadata": {
      "needs_background": "light"
     },
     "output_type": "display_data"
    }
   ],
   "source": [
    "ann_losses = pd.DataFrame(history.history)\n",
    "ann_losses[['loss', 'val_loss']].plot()"
   ]
  },
  {
   "cell_type": "code",
   "execution_count": 35,
   "metadata": {},
   "outputs": [
    {
     "data": {
      "text/plain": [
       "[68.32739144546979, 0.6393557]"
      ]
     },
     "execution_count": 35,
     "metadata": {},
     "output_type": "execute_result"
    }
   ],
   "source": [
    "ann_clf.evaluate(X_val_scaled, y_val, verbose=0)"
   ]
  }
 ],
 "metadata": {
  "kernelspec": {
   "display_name": "Python 3",
   "language": "python",
   "name": "python3"
  },
  "language_info": {
   "codemirror_mode": {
    "name": "ipython",
    "version": 3
   },
   "file_extension": ".py",
   "mimetype": "text/x-python",
   "name": "python",
   "nbconvert_exporter": "python",
   "pygments_lexer": "ipython3",
   "version": "3.7.6"
  }
 },
 "nbformat": 4,
 "nbformat_minor": 4
}
